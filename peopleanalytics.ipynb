{
  "nbformat": 4,
  "nbformat_minor": 0,
  "metadata": {
    "colab": {
      "name": "RHAnalytics",
      "provenance": [],
      "toc_visible": true,
      "authorship_tag": "ABX9TyNjvTT7vZ3m0+HkgEsT494B"
    },
    "kernelspec": {
      "name": "python3",
      "display_name": "Python 3"
    }
  },
  "cells": [
    {
      "cell_type": "code",
      "metadata": {
        "id": "SNQgco0Tg2hQ",
        "colab_type": "code",
        "colab": {}
      },
      "source": [
        "import pandas as pd\n",
        "import numpy as np\n",
        "import matplotlib.pyplot as plt\n",
        "import seaborn as sns\n",
        "\n",
        "from sklearn.model_selection import train_test_split\n",
        "from sklearn.ensemble import RandomForestClassifier\n",
        "from sklearn.linear_model import LogisticRegression\n",
        "from sklearn.preprocessing import LabelEncoder\n",
        "from sklearn.metrics import accuracy_score\n",
        "from sklearn.preprocessing import OneHotEncoder\n",
        "from sklearn.metrics import confusion_matrix, plot_confusion_matrix\n",
        "from sklearn.model_selection import GridSearchCV, KFold, RandomizedSearchCV\n",
        "from sklearn.naive_bayes import GaussianNB"
      ],
      "execution_count": 280,
      "outputs": []
    },
    {
      "cell_type": "code",
      "metadata": {
        "id": "ey7L6iStmAKe",
        "colab_type": "code",
        "colab": {}
      },
      "source": [
        "df = pd.read_csv('dados_func.csv')"
      ],
      "execution_count": 166,
      "outputs": []
    },
    {
      "cell_type": "markdown",
      "metadata": {
        "id": "qFyYeuzql80-",
        "colab_type": "text"
      },
      "source": [
        "##Análise Exploratória"
      ]
    },
    {
      "cell_type": "code",
      "metadata": {
        "id": "bjIfBHXol6dl",
        "colab_type": "code",
        "colab": {
          "base_uri": "https://localhost:8080/",
          "height": 0
        },
        "outputId": "3d668d71-2959-432b-badc-8df593c89f35"
      },
      "source": [
        "df.shape"
      ],
      "execution_count": 5,
      "outputs": [
        {
          "output_type": "execute_result",
          "data": {
            "text/plain": [
              "(14999, 10)"
            ]
          },
          "metadata": {
            "tags": []
          },
          "execution_count": 5
        }
      ]
    },
    {
      "cell_type": "code",
      "metadata": {
        "id": "QLYhV0kamK0c",
        "colab_type": "code",
        "colab": {
          "base_uri": "https://localhost:8080/",
          "height": 0
        },
        "outputId": "e4bb6727-8138-454c-adcd-ceea890ab9b2"
      },
      "source": [
        "df.info()"
      ],
      "execution_count": 6,
      "outputs": [
        {
          "output_type": "stream",
          "text": [
            "<class 'pandas.core.frame.DataFrame'>\n",
            "RangeIndex: 14999 entries, 0 to 14998\n",
            "Data columns (total 10 columns):\n",
            " #   Column                 Non-Null Count  Dtype  \n",
            "---  ------                 --------------  -----  \n",
            " 0   nivel_satisfacao       14999 non-null  float64\n",
            " 1   ultima_avaliacao       14999 non-null  float64\n",
            " 2   numero_projetos        14999 non-null  int64  \n",
            " 3   horas_medias_por_mes   14999 non-null  int64  \n",
            " 4   tempo_empresa          14999 non-null  int64  \n",
            " 5   acidente_trabalho      14999 non-null  int64  \n",
            " 6   deixou_empresa         14999 non-null  int64  \n",
            " 7   ultima_promocao_5anos  14999 non-null  int64  \n",
            " 8   area                   14999 non-null  object \n",
            " 9   salario                14999 non-null  object \n",
            "dtypes: float64(2), int64(6), object(2)\n",
            "memory usage: 1.1+ MB\n"
          ],
          "name": "stdout"
        }
      ]
    },
    {
      "cell_type": "code",
      "metadata": {
        "id": "mYZuGgb3mU6e",
        "colab_type": "code",
        "colab": {
          "base_uri": "https://localhost:8080/",
          "height": 0
        },
        "outputId": "47d9aed6-004c-4d5a-a361-68d4c335eaa9"
      },
      "source": [
        "df['nivel_satisfacao'].describe()"
      ],
      "execution_count": 7,
      "outputs": [
        {
          "output_type": "execute_result",
          "data": {
            "text/plain": [
              "count    14999.000000\n",
              "mean         0.612834\n",
              "std          0.248631\n",
              "min          0.090000\n",
              "25%          0.440000\n",
              "50%          0.640000\n",
              "75%          0.820000\n",
              "max          1.000000\n",
              "Name: nivel_satisfacao, dtype: float64"
            ]
          },
          "metadata": {
            "tags": []
          },
          "execution_count": 7
        }
      ]
    },
    {
      "cell_type": "code",
      "metadata": {
        "id": "5Ogg5OLBrlAR",
        "colab_type": "code",
        "colab": {
          "base_uri": "https://localhost:8080/",
          "height": 0
        },
        "outputId": "473ed619-1cd9-4b2b-94bc-908c0b34c2b8"
      },
      "source": [
        "df['ultima_avaliacao'].describe()"
      ],
      "execution_count": 8,
      "outputs": [
        {
          "output_type": "execute_result",
          "data": {
            "text/plain": [
              "count    14999.000000\n",
              "mean         0.716102\n",
              "std          0.171169\n",
              "min          0.360000\n",
              "25%          0.560000\n",
              "50%          0.720000\n",
              "75%          0.870000\n",
              "max          1.000000\n",
              "Name: ultima_avaliacao, dtype: float64"
            ]
          },
          "metadata": {
            "tags": []
          },
          "execution_count": 8
        }
      ]
    },
    {
      "cell_type": "code",
      "metadata": {
        "id": "9s-Qqga8rppa",
        "colab_type": "code",
        "colab": {
          "base_uri": "https://localhost:8080/",
          "height": 0
        },
        "outputId": "5575d842-2b5e-4ebb-b812-1ad47a2f285f"
      },
      "source": [
        "df['horas_medias_por_mes'].describe()"
      ],
      "execution_count": 9,
      "outputs": [
        {
          "output_type": "execute_result",
          "data": {
            "text/plain": [
              "count    14999.000000\n",
              "mean       201.050337\n",
              "std         49.943099\n",
              "min         96.000000\n",
              "25%        156.000000\n",
              "50%        200.000000\n",
              "75%        245.000000\n",
              "max        310.000000\n",
              "Name: horas_medias_por_mes, dtype: float64"
            ]
          },
          "metadata": {
            "tags": []
          },
          "execution_count": 9
        }
      ]
    },
    {
      "cell_type": "code",
      "metadata": {
        "id": "42H_y1OqgC4O",
        "colab_type": "code",
        "colab": {
          "base_uri": "https://localhost:8080/",
          "height": 0
        },
        "outputId": "2b55d3dc-cea4-4687-b056-cbc0557a579b"
      },
      "source": [
        "df['area'].unique()"
      ],
      "execution_count": 10,
      "outputs": [
        {
          "output_type": "execute_result",
          "data": {
            "text/plain": [
              "array(['sales', 'accounting', 'hr', 'technical', 'support', 'management',\n",
              "       'IT', 'product_mng', 'marketing', 'RandD'], dtype=object)"
            ]
          },
          "metadata": {
            "tags": []
          },
          "execution_count": 10
        }
      ]
    },
    {
      "cell_type": "code",
      "metadata": {
        "id": "S6v35a_ZgLnK",
        "colab_type": "code",
        "colab": {
          "base_uri": "https://localhost:8080/",
          "height": 0
        },
        "outputId": "ebab6931-6035-4107-c0d3-61c7214733b6"
      },
      "source": [
        "df['salario'].unique()"
      ],
      "execution_count": 11,
      "outputs": [
        {
          "output_type": "execute_result",
          "data": {
            "text/plain": [
              "array(['low', 'medium', 'high'], dtype=object)"
            ]
          },
          "metadata": {
            "tags": []
          },
          "execution_count": 11
        }
      ]
    },
    {
      "cell_type": "code",
      "metadata": {
        "id": "VdMiyiGNgbwa",
        "colab_type": "code",
        "colab": {
          "base_uri": "https://localhost:8080/",
          "height": 0
        },
        "outputId": "c75631ea-5e39-4e61-8d34-6ab34055a4b1"
      },
      "source": [
        "df['ultima_promocao_5anos'].unique()"
      ],
      "execution_count": 12,
      "outputs": [
        {
          "output_type": "execute_result",
          "data": {
            "text/plain": [
              "array([0, 1])"
            ]
          },
          "metadata": {
            "tags": []
          },
          "execution_count": 12
        }
      ]
    },
    {
      "cell_type": "code",
      "metadata": {
        "id": "YQ37tkZCnq7H",
        "colab_type": "code",
        "colab": {}
      },
      "source": [
        "frequency_target = df['deixou_empresa'].value_counts()"
      ],
      "execution_count": 13,
      "outputs": []
    },
    {
      "cell_type": "code",
      "metadata": {
        "id": "vkNHpFxQp1uu",
        "colab_type": "code",
        "colab": {}
      },
      "source": [
        "percent_target_1 = round(frequency_target[1] / sum(frequency_target), 2) * 100 "
      ],
      "execution_count": 14,
      "outputs": []
    },
    {
      "cell_type": "code",
      "metadata": {
        "id": "RoJo7v_WqEs-",
        "colab_type": "code",
        "colab": {}
      },
      "source": [
        "percent_target_0 = round(frequency_target[0] / sum(frequency_target), 3) * 100 "
      ],
      "execution_count": 15,
      "outputs": []
    },
    {
      "cell_type": "code",
      "metadata": {
        "id": "SXyj5VzBtD_8",
        "colab_type": "code",
        "colab": {
          "base_uri": "https://localhost:8080/",
          "height": 0
        },
        "outputId": "f1de3680-9d2d-40e4-db75-19d8bd6aa21f"
      },
      "source": [
        "print(f'Dexiou Empresa {percent_target_1}% - Não Deixou Empresa {percent_target_0}%')"
      ],
      "execution_count": 16,
      "outputs": [
        {
          "output_type": "stream",
          "text": [
            "Dexiou Empresa 24.0% - Não Deixou Empresa 76.2%\n"
          ],
          "name": "stdout"
        }
      ]
    },
    {
      "cell_type": "code",
      "metadata": {
        "id": "7AfyShchuDW6",
        "colab_type": "code",
        "colab": {
          "base_uri": "https://localhost:8080/",
          "height": 0
        },
        "outputId": "c07c3731-1a42-4be1-c5c5-e7e4a3a55272"
      },
      "source": [
        "plt.pie(x=[percent_target_0, percent_target_1], labels=['0 - Ainda Trabalham na empresa','1 - Deixaram a Empresa'], autopct='%.0f%%', shadow=False)\n",
        "plt.title('Frequencia de Pessoas Que Deixaram ou Não a Empresa')\n",
        "plt.show()"
      ],
      "execution_count": 17,
      "outputs": [
        {
          "output_type": "display_data",
          "data": {
            "image/png": "[encoded data removed]",
            "text/plain": [
              "<Figure size 432x288 with 1 Axes>"
            ]
          },
          "metadata": {
            "tags": []
          }
        }
      ]
    },
    {
      "cell_type": "code",
      "metadata": {
        "id": "J6EVwy34tUh6",
        "colab_type": "code",
        "colab": {}
      },
      "source": [
        "frequency_accident = df['acidente_trabalho'].value_counts()"
      ],
      "execution_count": 18,
      "outputs": []
    },
    {
      "cell_type": "code",
      "metadata": {
        "id": "K-MOVfsnu1-R",
        "colab_type": "code",
        "colab": {}
      },
      "source": [
        "percent_accident_1 = round(frequency_accident[1] / sum(frequency_accident), 2) * 100 "
      ],
      "execution_count": 19,
      "outputs": []
    },
    {
      "cell_type": "code",
      "metadata": {
        "id": "EVLx8k1Yu-VD",
        "colab_type": "code",
        "colab": {}
      },
      "source": [
        "percent_accident_0 = round(frequency_accident[0] / sum(frequency_accident), 2) * 100 "
      ],
      "execution_count": 20,
      "outputs": []
    },
    {
      "cell_type": "code",
      "metadata": {
        "id": "yceHxhA3vCbj",
        "colab_type": "code",
        "colab": {
          "base_uri": "https://localhost:8080/",
          "height": 0
        },
        "outputId": "df3846c4-4a68-418e-f871-7296af7f50d6"
      },
      "source": [
        "plt.pie(x=[percent_accident_0, percent_accident_1], labels=['0 - Não Sofreram Acidente ','1 - Sofreram Acidente'], autopct='%.0f%%', shadow=False)\n",
        "plt.title('Frequencia de Acidentes')\n",
        "plt.show()"
      ],
      "execution_count": 21,
      "outputs": [
        {
          "output_type": "display_data",
          "data": {
            "image/png": "[encoded data removed]",
            "text/plain": [
              "<Figure size 432x288 with 1 Axes>"
            ]
          },
          "metadata": {
            "tags": []
          }
        }
      ]
    },
    {
      "cell_type": "code",
      "metadata": {
        "id": "OUGtKcjavNOb",
        "colab_type": "code",
        "colab": {}
      },
      "source": [
        "frequency_promotion = df['ultima_promocao_5anos'].value_counts()"
      ],
      "execution_count": 22,
      "outputs": []
    },
    {
      "cell_type": "code",
      "metadata": {
        "id": "ja4nZUKXj88Q",
        "colab_type": "code",
        "colab": {}
      },
      "source": [
        "percent_promotion_1 = round(frequency_promotion[1] / sum(frequency_promotion), 2) * 100 "
      ],
      "execution_count": 23,
      "outputs": []
    },
    {
      "cell_type": "code",
      "metadata": {
        "id": "Le4ERkHikBmx",
        "colab_type": "code",
        "colab": {}
      },
      "source": [
        "percent_promotion_0 = round(frequency_promotion[0] / sum(frequency_promotion), 2) * 100 "
      ],
      "execution_count": 24,
      "outputs": []
    },
    {
      "cell_type": "code",
      "metadata": {
        "id": "6csL_gU7kFDH",
        "colab_type": "code",
        "colab": {
          "base_uri": "https://localhost:8080/",
          "height": 0
        },
        "outputId": "ff8c7ed7-87e2-44ef-b811-de94a47962b0"
      },
      "source": [
        "plt.pie(x=[percent_promotion_0, percent_promotion_1], labels=['0 - Não tiveram promoção ','1 - Tiveram promoção'], autopct='%.0f%%', shadow=False)\n",
        "plt.title('Proporção de promoções')\n",
        "plt.show()"
      ],
      "execution_count": 25,
      "outputs": [
        {
          "output_type": "display_data",
          "data": {
            "image/png": "[encoded data removed]",
            "text/plain": [
              "<Figure size 432x288 with 1 Axes>"
            ]
          },
          "metadata": {
            "tags": []
          }
        }
      ]
    },
    {
      "cell_type": "code",
      "metadata": {
        "id": "TTyIZa8nkOzK",
        "colab_type": "code",
        "colab": {
          "base_uri": "https://localhost:8080/",
          "height": 0
        },
        "outputId": "b272c839-acf7-484d-fddf-f612a3ab534d"
      },
      "source": [
        "df.query('ultima_promocao_5anos == 1')['ultima_promocao_5anos'].count()"
      ],
      "execution_count": 30,
      "outputs": [
        {
          "output_type": "execute_result",
          "data": {
            "text/plain": [
              "319"
            ]
          },
          "metadata": {
            "tags": []
          },
          "execution_count": 30
        }
      ]
    },
    {
      "cell_type": "code",
      "metadata": {
        "id": "f8LD3E4tkceb",
        "colab_type": "code",
        "colab": {
          "base_uri": "https://localhost:8080/",
          "height": 0
        },
        "outputId": "46bd9b0f-553a-48a0-ef3d-83856aad6a9e"
      },
      "source": [
        "df.query('ultima_promocao_5anos == 0')['ultima_promocao_5anos'].count()"
      ],
      "execution_count": 31,
      "outputs": [
        {
          "output_type": "execute_result",
          "data": {
            "text/plain": [
              "14680"
            ]
          },
          "metadata": {
            "tags": []
          },
          "execution_count": 31
        }
      ]
    },
    {
      "cell_type": "code",
      "metadata": {
        "id": "4CwqanzBkpHa",
        "colab_type": "code",
        "colab": {}
      },
      "source": [
        "area_sum = df['area'].value_counts()"
      ],
      "execution_count": 75,
      "outputs": []
    },
    {
      "cell_type": "code",
      "metadata": {
        "id": "wJa4gLfSnRHh",
        "colab_type": "code",
        "colab": {
          "base_uri": "https://localhost:8080/",
          "height": 0
        },
        "outputId": "0eb96340-2402-424a-9af0-b9c492cd8445"
      },
      "source": [
        "axis_y = area_sum\n",
        "axis_x = area_sum.index\n",
        "\n",
        "fig, ax = plt.subplots()\n",
        "\n",
        "ax.barh(axis_x, axis_y, 0.9)\n",
        "ax.invert_yaxis() \n",
        "ax.set_title('Comparação de Valores por Área')\n",
        "\n",
        "plt.show()"
      ],
      "execution_count": 79,
      "outputs": [
        {
          "output_type": "display_data",
          "data": {
            "image/png": "[encoded data removed]",
            "text/plain": [
              "<Figure size 432x288 with 1 Axes>"
            ]
          },
          "metadata": {
            "tags": [],
            "needs_background": "light"
          }
        }
      ]
    },
    {
      "cell_type": "code",
      "metadata": {
        "id": "hzGYyJTenSSJ",
        "colab_type": "code",
        "colab": {}
      },
      "source": [
        "sal_sum = df['salario'].value_counts()"
      ],
      "execution_count": 78,
      "outputs": []
    },
    {
      "cell_type": "code",
      "metadata": {
        "id": "ZjGdtBOxqmyz",
        "colab_type": "code",
        "colab": {
          "base_uri": "https://localhost:8080/",
          "height": 0
        },
        "outputId": "c57b8113-bfb0-4d7f-94f2-34968ac61d3b"
      },
      "source": [
        "axis_x = sal_sum.index\n",
        "axis_y = sal_sum\n",
        "\n",
        "fig, ax = plt.subplots()\n",
        "ax.barh(axis_x, axis_y, 0.9)\n",
        "ax.invert_yaxis()\n",
        "ax.set_title('Comparação de Salários')\n",
        "\n",
        "plt.show()\n"
      ],
      "execution_count": 80,
      "outputs": [
        {
          "output_type": "display_data",
          "data": {
            "image/png": "[encoded data removed]",
            "text/plain": [
              "<Figure size 432x288 with 1 Axes>"
            ]
          },
          "metadata": {
            "tags": [],
            "needs_background": "light"
          }
        }
      ]
    },
    {
      "cell_type": "code",
      "metadata": {
        "id": "_SGDn1CCr08-",
        "colab_type": "code",
        "colab": {
          "base_uri": "https://localhost:8080/",
          "height": 0
        },
        "outputId": "08d81ed3-fb3c-4b8c-dd9f-ad68fa841d42"
      },
      "source": [
        "axis_x = df['nivel_satisfacao']\n",
        "sns.distplot(axis_x, bins=10 )\n",
        "plt.title('Nível de Satisfação')\n",
        "plt.show()"
      ],
      "execution_count": 98,
      "outputs": [
        {
          "output_type": "display_data",
          "data": {
            "image/png": "[encoded data removed]",
            "text/plain": [
              "<Figure size 432x288 with 1 Axes>"
            ]
          },
          "metadata": {
            "tags": [],
            "needs_background": "light"
          }
        }
      ]
    },
    {
      "cell_type": "code",
      "metadata": {
        "id": "xOORnd2Hue93",
        "colab_type": "code",
        "colab": {
          "base_uri": "https://localhost:8080/",
          "height": 0
        },
        "outputId": "2627c2da-44f9-4c17-d8be-cde040ab7517"
      },
      "source": [
        "axis_x = df['numero_projetos']\n",
        "sns.distplot(axis_x, bins=10 )\n",
        "plt.title('Número de projetos')\n",
        "plt.show()"
      ],
      "execution_count": 99,
      "outputs": [
        {
          "output_type": "display_data",
          "data": {
            "image/png": "[encoded data removed]",
            "text/plain": [
              "<Figure size 432x288 with 1 Axes>"
            ]
          },
          "metadata": {
            "tags": [],
            "needs_background": "light"
          }
        }
      ]
    },
    {
      "cell_type": "code",
      "metadata": {
        "id": "OKEBKWKr9r3s",
        "colab_type": "code",
        "colab": {
          "base_uri": "https://localhost:8080/",
          "height": 0
        },
        "outputId": "fcf2d80c-3303-4736-cbb6-5694fed1d284"
      },
      "source": [
        "axis_x = df['horas_medias_por_mes']\n",
        "sns.distplot(axis_x, bins=10, kde=True )\n",
        "plt.title('Horas médias por mês')\n",
        "plt.show()"
      ],
      "execution_count": 101,
      "outputs": [
        {
          "output_type": "display_data",
          "data": {
            "image/png": "[encoded data removed]",
            "text/plain": [
              "<Figure size 432x288 with 1 Axes>"
            ]
          },
          "metadata": {
            "tags": [],
            "needs_background": "light"
          }
        }
      ]
    },
    {
      "cell_type": "code",
      "metadata": {
        "id": "ooXUf_iK-tCS",
        "colab_type": "code",
        "colab": {
          "base_uri": "https://localhost:8080/",
          "height": 0
        },
        "outputId": "c514fe0b-4e56-438f-8eee-125dce84d3d3"
      },
      "source": [
        "axis_x = df['tempo_empresa']\n",
        "sns.distplot(axis_x, bins=10, kde=True )\n",
        "plt.title('Tempo de Empresa')\n",
        "plt.show()"
      ],
      "execution_count": 102,
      "outputs": [
        {
          "output_type": "display_data",
          "data": {
            "image/png": "[encoded data removed]",
            "text/plain": [
              "<Figure size 432x288 with 1 Axes>"
            ]
          },
          "metadata": {
            "tags": [],
            "needs_background": "light"
          }
        }
      ]
    },
    {
      "cell_type": "code",
      "metadata": {
        "id": "NHUq33SE_O4k",
        "colab_type": "code",
        "colab": {
          "base_uri": "https://localhost:8080/",
          "height": 0
        },
        "outputId": "f908f1f2-3972-4d00-897e-f9992b551927"
      },
      "source": [
        "df.dtypes"
      ],
      "execution_count": 105,
      "outputs": [
        {
          "output_type": "execute_result",
          "data": {
            "text/plain": [
              "nivel_satisfacao         float64\n",
              "ultima_avaliacao         float64\n",
              "numero_projetos            int64\n",
              "horas_medias_por_mes       int64\n",
              "tempo_empresa              int64\n",
              "acidente_trabalho          int64\n",
              "deixou_empresa             int64\n",
              "ultima_promocao_5anos      int64\n",
              "area                      object\n",
              "salario                   object\n",
              "dtype: object"
            ]
          },
          "metadata": {
            "tags": []
          },
          "execution_count": 105
        }
      ]
    },
    {
      "cell_type": "code",
      "metadata": {
        "id": "pmYej9Ba_Bbo",
        "colab_type": "code",
        "colab": {
          "base_uri": "https://localhost:8080/",
          "height": 0
        },
        "outputId": "2ed4c758-578b-4aa7-f92e-e439d97933ca"
      },
      "source": [
        "fig, ax = plt.subplots(figsize=(11, 9))\n",
        "\n",
        "corr = df.select_dtypes(include=['float64', 'int64']).corr()\n",
        "cmap = sns.diverging_palette(220, 10, as_cmap=True)\n",
        "mask = np.triu(np.ones_like(corr, dtype=np.bool))\n",
        "\n",
        "sns.heatmap(corr, mask=mask, cmap=cmap, square=True, linewidths=.5, cbar_kws={\"shrink\": .5})\n",
        "plt.show()"
      ],
      "execution_count": 112,
      "outputs": [
        {
          "output_type": "display_data",
          "data": {
            "image/png": "[encoded data removed]",
            "text/plain": [
              "<Figure size 792x648 with 2 Axes>"
            ]
          },
          "metadata": {
            "tags": [],
            "needs_background": "light"
          }
        }
      ]
    },
    {
      "cell_type": "code",
      "metadata": {
        "id": "g371g0js_LeJ",
        "colab_type": "code",
        "colab": {
          "base_uri": "https://localhost:8080/",
          "height": 0
        },
        "outputId": "0366248e-5074-4480-87da-1897f9c73047"
      },
      "source": [
        "ct = pd.crosstab(df['acidente_trabalho'],df['deixou_empresa'])\n",
        "ct.plot.bar(stacked=True)\n",
        "plt.title('Acidente de Trabalho x Deixou Empresa')\n",
        "plt.show()"
      ],
      "execution_count": 120,
      "outputs": [
        {
          "output_type": "display_data",
          "data": {
            "image/png": "[encoded data removed]",
            "text/plain": [
              "<Figure size 432x288 with 1 Axes>"
            ]
          },
          "metadata": {
            "tags": [],
            "needs_background": "light"
          }
        }
      ]
    },
    {
      "cell_type": "code",
      "metadata": {
        "id": "gy9J1dFtBmgd",
        "colab_type": "code",
        "colab": {
          "base_uri": "https://localhost:8080/",
          "height": 0
        },
        "outputId": "25b05c8b-a8c1-478e-cfcf-41dca8e2f02e"
      },
      "source": [
        "df.query('acidente_trabalho == 1')['acidente_trabalho'].count() / df['acidente_trabalho'].count()"
      ],
      "execution_count": 121,
      "outputs": [
        {
          "output_type": "execute_result",
          "data": {
            "text/plain": [
              "0.1446096406427095"
            ]
          },
          "metadata": {
            "tags": []
          },
          "execution_count": 121
        }
      ]
    },
    {
      "cell_type": "code",
      "metadata": {
        "id": "bQN-7Z9OCzjT",
        "colab_type": "code",
        "colab": {
          "base_uri": "https://localhost:8080/",
          "height": 0
        },
        "outputId": "2a46e8a1-2518-40a9-9ee1-666e03a3c0fc"
      },
      "source": [
        "df.query('acidente_trabalho == 0')['acidente_trabalho'].count() / df['acidente_trabalho'].count()"
      ],
      "execution_count": 122,
      "outputs": [
        {
          "output_type": "execute_result",
          "data": {
            "text/plain": [
              "0.8553903593572905"
            ]
          },
          "metadata": {
            "tags": []
          },
          "execution_count": 122
        }
      ]
    },
    {
      "cell_type": "code",
      "metadata": {
        "id": "CFABhYVlDwnm",
        "colab_type": "code",
        "colab": {
          "base_uri": "https://localhost:8080/",
          "height": 0
        },
        "outputId": "a4cf4f5e-cf43-435e-b3e2-d95c915378fa"
      },
      "source": [
        "df.query('acidente_trabalho == 0 and deixou_empresa == 1')['acidente_trabalho'].count() / df['acidente_trabalho'].count()"
      ],
      "execution_count": 127,
      "outputs": [
        {
          "output_type": "execute_result",
          "data": {
            "text/plain": [
              "nivel_satisfacao         0.226815\n",
              "ultima_avaliacao         0.226815\n",
              "numero_projetos          0.226815\n",
              "horas_medias_por_mes     0.226815\n",
              "tempo_empresa            0.226815\n",
              "acidente_trabalho        0.226815\n",
              "deixou_empresa           0.226815\n",
              "ultima_promocao_5anos    0.226815\n",
              "area                     0.226815\n",
              "salario                  0.226815\n",
              "dtype: float64"
            ]
          },
          "metadata": {
            "tags": []
          },
          "execution_count": 127
        }
      ]
    },
    {
      "cell_type": "code",
      "metadata": {
        "id": "_1CEsQpXEAux",
        "colab_type": "code",
        "colab": {
          "base_uri": "https://localhost:8080/",
          "height": 0
        },
        "outputId": "5ab7098c-d1f4-47b3-ed64-742b97c1928d"
      },
      "source": [
        "df.query('acidente_trabalho == 1 and deixou_empresa == 1')['acidente_trabalho'].count() / df['acidente_trabalho'].count()"
      ],
      "execution_count": 124,
      "outputs": [
        {
          "output_type": "execute_result",
          "data": {
            "text/plain": [
              "0.01126741782785519"
            ]
          },
          "metadata": {
            "tags": []
          },
          "execution_count": 124
        }
      ]
    },
    {
      "cell_type": "code",
      "metadata": {
        "id": "KvObpUxoETkB",
        "colab_type": "code",
        "colab": {
          "base_uri": "https://localhost:8080/",
          "height": 0
        },
        "outputId": "4fb3409b-9d83-4207-93ba-848937d384dc"
      },
      "source": [
        "pd.crosstab(df['acidente_trabalho'],df['deixou_empresa'])"
      ],
      "execution_count": 129,
      "outputs": [
        {
          "output_type": "execute_result",
          "data": {
            "text/html": [
              "<div>\n",
              "<style scoped>\n",
              "    .dataframe tbody tr th:only-of-type {\n",
              "        vertical-align: middle;\n",
              "    }\n",
              "\n",
              "    .dataframe tbody tr th {\n",
              "        vertical-align: top;\n",
              "    }\n",
              "\n",
              "    .dataframe thead th {\n",
              "        text-align: right;\n",
              "    }\n",
              "</style>\n",
              "<table border=\"1\" class=\"dataframe\">\n",
              "  <thead>\n",
              "    <tr style=\"text-align: right;\">\n",
              "      <th>deixou_empresa</th>\n",
              "      <th>0</th>\n",
              "      <th>1</th>\n",
              "    </tr>\n",
              "    <tr>\n",
              "      <th>acidente_trabalho</th>\n",
              "      <th></th>\n",
              "      <th></th>\n",
              "    </tr>\n",
              "  </thead>\n",
              "  <tbody>\n",
              "    <tr>\n",
              "      <th>0</th>\n",
              "      <td>9428</td>\n",
              "      <td>3402</td>\n",
              "    </tr>\n",
              "    <tr>\n",
              "      <th>1</th>\n",
              "      <td>2000</td>\n",
              "      <td>169</td>\n",
              "    </tr>\n",
              "  </tbody>\n",
              "</table>\n",
              "</div>"
            ],
            "text/plain": [
              "deixou_empresa        0     1\n",
              "acidente_trabalho            \n",
              "0                  9428  3402\n",
              "1                  2000   169"
            ]
          },
          "metadata": {
            "tags": []
          },
          "execution_count": 129
        }
      ]
    },
    {
      "cell_type": "code",
      "metadata": {
        "id": "AdOO3gGuEbOh",
        "colab_type": "code",
        "colab": {
          "base_uri": "https://localhost:8080/",
          "height": 0
        },
        "outputId": "388310c7-1d3a-4ed2-b385-bbaac7c20f69"
      },
      "source": [
        "ct = pd.crosstab(df['ultima_promocao_5anos'],df['deixou_empresa'])\n",
        "ct.plot.bar(stacked=True)\n",
        "plt.title('Ultima Promoção x Deixou Empresa')\n",
        "plt.show()"
      ],
      "execution_count": 130,
      "outputs": [
        {
          "output_type": "display_data",
          "data": {
            "image/png": "[encoded data removed]",
            "text/plain": [
              "<Figure size 432x288 with 1 Axes>"
            ]
          },
          "metadata": {
            "tags": [],
            "needs_background": "light"
          }
        }
      ]
    },
    {
      "cell_type": "code",
      "metadata": {
        "id": "sCBlnJ9_FNi3",
        "colab_type": "code",
        "colab": {
          "base_uri": "https://localhost:8080/",
          "height": 0
        },
        "outputId": "c7fa36af-9d4a-4c4c-d78e-036c3e5ec929"
      },
      "source": [
        "df.groupby('area').agg({'deixou_empresa':'mean'})"
      ],
      "execution_count": 134,
      "outputs": [
        {
          "output_type": "execute_result",
          "data": {
            "text/html": [
              "<div>\n",
              "<style scoped>\n",
              "    .dataframe tbody tr th:only-of-type {\n",
              "        vertical-align: middle;\n",
              "    }\n",
              "\n",
              "    .dataframe tbody tr th {\n",
              "        vertical-align: top;\n",
              "    }\n",
              "\n",
              "    .dataframe thead th {\n",
              "        text-align: right;\n",
              "    }\n",
              "</style>\n",
              "<table border=\"1\" class=\"dataframe\">\n",
              "  <thead>\n",
              "    <tr style=\"text-align: right;\">\n",
              "      <th></th>\n",
              "      <th>deixou_empresa</th>\n",
              "    </tr>\n",
              "    <tr>\n",
              "      <th>area</th>\n",
              "      <th></th>\n",
              "    </tr>\n",
              "  </thead>\n",
              "  <tbody>\n",
              "    <tr>\n",
              "      <th>IT</th>\n",
              "      <td>0.222494</td>\n",
              "    </tr>\n",
              "    <tr>\n",
              "      <th>RandD</th>\n",
              "      <td>0.153748</td>\n",
              "    </tr>\n",
              "    <tr>\n",
              "      <th>accounting</th>\n",
              "      <td>0.265971</td>\n",
              "    </tr>\n",
              "    <tr>\n",
              "      <th>hr</th>\n",
              "      <td>0.290934</td>\n",
              "    </tr>\n",
              "    <tr>\n",
              "      <th>management</th>\n",
              "      <td>0.144444</td>\n",
              "    </tr>\n",
              "    <tr>\n",
              "      <th>marketing</th>\n",
              "      <td>0.236597</td>\n",
              "    </tr>\n",
              "    <tr>\n",
              "      <th>product_mng</th>\n",
              "      <td>0.219512</td>\n",
              "    </tr>\n",
              "    <tr>\n",
              "      <th>sales</th>\n",
              "      <td>0.244928</td>\n",
              "    </tr>\n",
              "    <tr>\n",
              "      <th>support</th>\n",
              "      <td>0.248991</td>\n",
              "    </tr>\n",
              "    <tr>\n",
              "      <th>technical</th>\n",
              "      <td>0.256250</td>\n",
              "    </tr>\n",
              "  </tbody>\n",
              "</table>\n",
              "</div>"
            ],
            "text/plain": [
              "             deixou_empresa\n",
              "area                       \n",
              "IT                 0.222494\n",
              "RandD              0.153748\n",
              "accounting         0.265971\n",
              "hr                 0.290934\n",
              "management         0.144444\n",
              "marketing          0.236597\n",
              "product_mng        0.219512\n",
              "sales              0.244928\n",
              "support            0.248991\n",
              "technical          0.256250"
            ]
          },
          "metadata": {
            "tags": []
          },
          "execution_count": 134
        }
      ]
    },
    {
      "cell_type": "code",
      "metadata": {
        "colab_type": "code",
        "id": "GC9p27Y0JISv",
        "colab": {
          "base_uri": "https://localhost:8080/",
          "height": 0
        },
        "outputId": "d842f29a-9d4e-49df-c174-6c0799339d3e"
      },
      "source": [
        "df.groupby('salario').agg({'deixou_empresa':'mean'})"
      ],
      "execution_count": 135,
      "outputs": [
        {
          "output_type": "execute_result",
          "data": {
            "text/html": [
              "<div>\n",
              "<style scoped>\n",
              "    .dataframe tbody tr th:only-of-type {\n",
              "        vertical-align: middle;\n",
              "    }\n",
              "\n",
              "    .dataframe tbody tr th {\n",
              "        vertical-align: top;\n",
              "    }\n",
              "\n",
              "    .dataframe thead th {\n",
              "        text-align: right;\n",
              "    }\n",
              "</style>\n",
              "<table border=\"1\" class=\"dataframe\">\n",
              "  <thead>\n",
              "    <tr style=\"text-align: right;\">\n",
              "      <th></th>\n",
              "      <th>deixou_empresa</th>\n",
              "    </tr>\n",
              "    <tr>\n",
              "      <th>salario</th>\n",
              "      <th></th>\n",
              "    </tr>\n",
              "  </thead>\n",
              "  <tbody>\n",
              "    <tr>\n",
              "      <th>high</th>\n",
              "      <td>0.066289</td>\n",
              "    </tr>\n",
              "    <tr>\n",
              "      <th>low</th>\n",
              "      <td>0.296884</td>\n",
              "    </tr>\n",
              "    <tr>\n",
              "      <th>medium</th>\n",
              "      <td>0.204313</td>\n",
              "    </tr>\n",
              "  </tbody>\n",
              "</table>\n",
              "</div>"
            ],
            "text/plain": [
              "         deixou_empresa\n",
              "salario                \n",
              "high           0.066289\n",
              "low            0.296884\n",
              "medium         0.204313"
            ]
          },
          "metadata": {
            "tags": []
          },
          "execution_count": 135
        }
      ]
    },
    {
      "cell_type": "code",
      "metadata": {
        "id": "9xPBRowbJLB5",
        "colab_type": "code",
        "colab": {
          "base_uri": "https://localhost:8080/",
          "height": 0
        },
        "outputId": "0b1e08df-2f46-4983-ff07-5fa9df80058a"
      },
      "source": [
        "df.groupby('ultima_promocao_5anos').agg({'deixou_empresa':'mean'})"
      ],
      "execution_count": 136,
      "outputs": [
        {
          "output_type": "execute_result",
          "data": {
            "text/html": [
              "<div>\n",
              "<style scoped>\n",
              "    .dataframe tbody tr th:only-of-type {\n",
              "        vertical-align: middle;\n",
              "    }\n",
              "\n",
              "    .dataframe tbody tr th {\n",
              "        vertical-align: top;\n",
              "    }\n",
              "\n",
              "    .dataframe thead th {\n",
              "        text-align: right;\n",
              "    }\n",
              "</style>\n",
              "<table border=\"1\" class=\"dataframe\">\n",
              "  <thead>\n",
              "    <tr style=\"text-align: right;\">\n",
              "      <th></th>\n",
              "      <th>deixou_empresa</th>\n",
              "    </tr>\n",
              "    <tr>\n",
              "      <th>ultima_promocao_5anos</th>\n",
              "      <th></th>\n",
              "    </tr>\n",
              "  </thead>\n",
              "  <tbody>\n",
              "    <tr>\n",
              "      <th>0</th>\n",
              "      <td>0.241962</td>\n",
              "    </tr>\n",
              "    <tr>\n",
              "      <th>1</th>\n",
              "      <td>0.059561</td>\n",
              "    </tr>\n",
              "  </tbody>\n",
              "</table>\n",
              "</div>"
            ],
            "text/plain": [
              "                       deixou_empresa\n",
              "ultima_promocao_5anos                \n",
              "0                            0.241962\n",
              "1                            0.059561"
            ]
          },
          "metadata": {
            "tags": []
          },
          "execution_count": 136
        }
      ]
    },
    {
      "cell_type": "markdown",
      "metadata": {
        "id": "JH9THPgVMr0V",
        "colab_type": "text"
      },
      "source": [
        "## Transformação\n"
      ]
    },
    {
      "cell_type": "code",
      "metadata": {
        "id": "9KZ2Gh6gXcnj",
        "colab_type": "code",
        "colab": {}
      },
      "source": [
        "df = pd.get_dummies(df)"
      ],
      "execution_count": 247,
      "outputs": []
    },
    {
      "cell_type": "markdown",
      "metadata": {
        "id": "L93_oOYVKZ-l",
        "colab_type": "text"
      },
      "source": [
        "## Separação dos dados\n"
      ]
    },
    {
      "cell_type": "code",
      "metadata": {
        "id": "5rG5pFwCKCvx",
        "colab_type": "code",
        "colab": {}
      },
      "source": [
        "X = df.drop('deixou_empresa', axis=1)\n",
        "y = df['deixou_empresa']\n",
        "\n",
        "x_train,x_test,y_train,y_test = train_test_split(X,y, test_size=0.3, random_state=42)"
      ],
      "execution_count": 248,
      "outputs": []
    },
    {
      "cell_type": "markdown",
      "metadata": {
        "id": "fTSp2mzlP-uE",
        "colab_type": "text"
      },
      "source": [
        "##Regressao Logistica"
      ]
    },
    {
      "cell_type": "code",
      "metadata": {
        "id": "N03AL6iHMEbr",
        "colab_type": "code",
        "colab": {
          "base_uri": "https://localhost:8080/",
          "height": 153
        },
        "outputId": "c6ac3604-3730-48a5-855b-4213782f874d"
      },
      "source": [
        "clf = LogisticRegression(penalty='l2', solver='lbfgs', multi_class='multinomial').fit(x_train,y_train)"
      ],
      "execution_count": 281,
      "outputs": [
        {
          "output_type": "stream",
          "text": [
            "/usr/local/lib/python3.6/dist-packages/sklearn/linear_model/_logistic.py:940: ConvergenceWarning: lbfgs failed to converge (status=1):\n",
            "STOP: TOTAL NO. of ITERATIONS REACHED LIMIT.\n",
            "\n",
            "Increase the number of iterations (max_iter) or scale the data as shown in:\n",
            "    https://scikit-learn.org/stable/modules/preprocessing.html\n",
            "Please also refer to the documentation for alternative solver options:\n",
            "    https://scikit-learn.org/stable/modules/linear_model.html#logistic-regression\n",
            "  extra_warning_msg=_LOGISTIC_SOLVER_CONVERGENCE_MSG)\n"
          ],
          "name": "stderr"
        }
      ]
    },
    {
      "cell_type": "code",
      "metadata": {
        "id": "DM8Sz3zFQfgW",
        "colab_type": "code",
        "colab": {}
      },
      "source": [
        "y_pred = clf.predict(x_test)"
      ],
      "execution_count": 282,
      "outputs": []
    },
    {
      "cell_type": "code",
      "metadata": {
        "id": "Mf5n4YnMMIXs",
        "colab_type": "code",
        "colab": {
          "base_uri": "https://localhost:8080/",
          "height": 51
        },
        "outputId": "bbcc1f4b-12fd-4627-ab8c-77b3b9804874"
      },
      "source": [
        "print(\"train data score:{:.3f}\".\n",
        "     format(clf.score(x_train,y_train) * 100))\n",
        "\n",
        "print(\"test data score:{:.3f}\".\n",
        "     format(clf.score(x_test,y_test) * 100))"
      ],
      "execution_count": 283,
      "outputs": [
        {
          "output_type": "stream",
          "text": [
            "train data score:79.369\n",
            "test data score:78.756\n"
          ],
          "name": "stdout"
        }
      ]
    },
    {
      "cell_type": "code",
      "metadata": {
        "id": "H7GqlaQGOv74",
        "colab_type": "code",
        "colab": {}
      },
      "source": [
        "cm = confusion_matrix(y_test, y_pred)"
      ],
      "execution_count": 252,
      "outputs": []
    },
    {
      "cell_type": "code",
      "metadata": {
        "id": "xzm3MrT_QuUU",
        "colab_type": "code",
        "colab": {
          "base_uri": "https://localhost:8080/",
          "height": 0
        },
        "outputId": "2f924ccb-2e48-4871-a5f0-d283789187ce"
      },
      "source": [
        "cm"
      ],
      "execution_count": 253,
      "outputs": [
        {
          "output_type": "execute_result",
          "data": {
            "text/plain": [
              "array([[3172,  256],\n",
              "       [ 707,  365]])"
            ]
          },
          "metadata": {
            "tags": []
          },
          "execution_count": 253
        }
      ]
    },
    {
      "cell_type": "code",
      "metadata": {
        "id": "BYuf52ZgQvqT",
        "colab_type": "code",
        "colab": {}
      },
      "source": [
        ""
      ],
      "execution_count": 253,
      "outputs": []
    },
    {
      "cell_type": "markdown",
      "metadata": {
        "id": "kFRO71MsR8Qw",
        "colab_type": "text"
      },
      "source": [
        "## Árvore de Decisao"
      ]
    },
    {
      "cell_type": "code",
      "metadata": {
        "id": "9l0rl7ybR-kN",
        "colab_type": "code",
        "colab": {}
      },
      "source": [
        "clf = RandomForestClassifier(n_estimators=100, \n",
        "                             criterion='entropy',\n",
        "                             max_depth=90).fit(x_train, y_train)"
      ],
      "execution_count": 284,
      "outputs": []
    },
    {
      "cell_type": "code",
      "metadata": {
        "id": "44h27FOmSPW-",
        "colab_type": "code",
        "colab": {
          "base_uri": "https://localhost:8080/",
          "height": 51
        },
        "outputId": "48dd1147-2af8-47bc-8bce-0e6a079d48c1"
      },
      "source": [
        "print(\"train data score:{:.3f}\".\n",
        "     format(clf.score(x_train,y_train) * 100))\n",
        "\n",
        "print(\"test data score:{:.3f}\".\n",
        "     format(clf.score(x_test,y_test) * 100))"
      ],
      "execution_count": 285,
      "outputs": [
        {
          "output_type": "stream",
          "text": [
            "train data score:100.000\n",
            "test data score:98.667\n"
          ],
          "name": "stdout"
        }
      ]
    },
    {
      "cell_type": "markdown",
      "metadata": {
        "id": "HlqRBnB7cGzm",
        "colab_type": "text"
      },
      "source": [
        "## Classificador Bayesiano"
      ]
    },
    {
      "cell_type": "code",
      "metadata": {
        "id": "jdPbxLCecRzW",
        "colab_type": "code",
        "colab": {
          "base_uri": "https://localhost:8080/",
          "height": 51
        },
        "outputId": "4a213c6e-f4d7-404b-bf81-61b4e34050c6"
      },
      "source": [
        "clf = GaussianNB().fit(x_train, y_train)\n",
        "\n",
        "print(\"train data score:{:.3f}\".\n",
        "     format(clf.score(x_train,y_train) * 100))\n",
        "\n",
        "print(\"test data score:{:.3f}\".\n",
        "     format(clf.score(x_test,y_test) * 100))"
      ],
      "execution_count": 288,
      "outputs": [
        {
          "output_type": "stream",
          "text": [
            "train data score:66.025\n",
            "test data score:65.022\n"
          ],
          "name": "stdout"
        }
      ]
    },
    {
      "cell_type": "markdown",
      "metadata": {
        "id": "D9azeytZb-D7",
        "colab_type": "text"
      },
      "source": [
        "## Variáveis mais importantes"
      ]
    },
    {
      "cell_type": "code",
      "metadata": {
        "id": "k_reEx1JWn2C",
        "colab_type": "code",
        "colab": {
          "base_uri": "https://localhost:8080/",
          "height": 567
        },
        "outputId": "1bdac4ca-c8c4-4d40-ae61-7b8d8d77982e"
      },
      "source": [
        "features = X.columns\n",
        "rfc_feature_importance = clf.feature_importances_\n",
        "index = np.argsort(rfc_feature_importance)\n",
        "\n",
        "fig, ax = plt.subplots(figsize=(11, 9))\n",
        "\n",
        "ax.barh(range(len(index)), rfc_feature_importance[index], color='b', align='center')\n",
        "plt.yticks(range(len(index)), [features[i] for i in index])\n",
        "plt.xlabel('Relative Importance')\n",
        "plt.title('Variaveis mais importantes Arvore de Decisão')\n",
        "plt.show()\n"
      ],
      "execution_count": 287,
      "outputs": [
        {
          "output_type": "display_data",
          "data": {
            "image/png": "[encoded data removed]",
            "text/plain": [
              "<Figure size 792x648 with 1 Axes>"
            ]
          },
          "metadata": {
            "tags": [],
            "needs_background": "light"
          }
        }
      ]
    },
    {
      "cell_type": "code",
      "metadata": {
        "id": "3NcP2ejwbSwi",
        "colab_type": "code",
        "colab": {}
      },
      "source": [
        ""
      ],
      "execution_count": null,
      "outputs": []
    }
  ]
}
